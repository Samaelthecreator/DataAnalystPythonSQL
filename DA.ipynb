{
 "cells": [
  {
   "cell_type": "markdown",
   "metadata": {},
   "source": [
    "# Análisis de datos e inteligencia comercial"
   ]
  },
  {
   "cell_type": "markdown",
   "metadata": {},
   "source": [
    "Luego de realizar procesos ETL en donde recopilamos toda la información de diferentes fuentes, la transformamos y validamos nuestros datos para trabajar con ellos, se procede a realizar un análisis exploratorio de la información. Esto con la finalidad de conocer las forma de la información, algun error que se nos haya pasado y comenzar a realizar la inteligencia comercial a partir del calculo de las utilidades, rendimientos, tasa de venta/compra entre otros parámetros en función del giro de la empresa.\n",
    "\n",
    "A continuación enlistaremos unos cuantos parámetros que se calculan dentro de la inteligencia comercial y como realizarlos a partir del lenguaje en Python."
   ]
  },
  {
   "cell_type": "markdown",
   "metadata": {},
   "source": [
    "# Rendimientos financieros.\n",
    "\n",
    "**Ingresos totales** : Cantidad total de dinero que la empresa recibe por la venta de bienes o servicios.\n",
    "\n",
    "**Costos totales**: Suma de todos los costos directos e indirectos asociados con la producción de bienes o servicios.\n",
    "\n",
    "**Utilidad bruta** : Ingresos totales- Costos de los Bienes Vendidos (COGS).\n",
    "\n",
    "**Utilidad Neta** : *Utilidad bruta* -*gastos operativos*, impuestos y otros gastos.\n",
    "\n",
    "**Márgenes de Utilidad**: *Utilidad Neta/ Ingresos totales*.\n",
    "\n",
    "EBITDA : Earnings Before Interest, Taxes. Deprecation and Amortization."
   ]
  },
  {
   "cell_type": "markdown",
   "metadata": {},
   "source": [
    "# Análisis de ventas.\n",
    "\n",
    "**Tasa de crecimiento de ventas** : (*ventas actuales* - *ventas anteriores*)/*Ventas anteriores*.\n",
    "\n",
    "**Ventas por producto/Categoria**: Distribución de las ventas por diferentes productos o categorias.\n",
    "\n",
    "**Ventas por región** :  Distribución de las ventas a través de diferentes canales.\n"
   ]
  },
  {
   "cell_type": "markdown",
   "metadata": {},
   "source": [
    "# Análisis de clientes \n",
    "\n",
    "**Adquisición de clientes** : Número de nuevos clientes adquiridos en un perido.\n",
    "\n",
    "**Retención de clientes**: Porcentaje de clientes que continúan comprando en la empresa durante un período especifico.\n",
    "\n",
    "**Valor de vida del cliente (CLV) : Valor total de los ingresos esperados de un cliente durante el tiempo que permanezca con la empresa.\n",
    "\n",
    "**Tasa de Deserción (Churn Rate)**: Porcentaje d eclientes que dejan de comprar en la empresa durante un periodo.\n",
    "\n"
   ]
  },
  {
   "cell_type": "markdown",
   "metadata": {},
   "source": [
    "# Gestión de inventario\n",
    "\n",
    "**Rotación de inventario:** Costo de los Bienes Vendidos/ Promedio de Inventario.\n",
    "\n",
    "**Días de inventario:** (*Promedio de Inventario* / *costo de los Bienes Vendidos*)*365 \n",
    "\n",
    "**Stock de seguridad**: Nivel mínimo de inventario que se debe mantener para evitar faltantes.\n",
    "\n"
   ]
  }
 ],
 "metadata": {
  "kernelspec": {
   "display_name": "base",
   "language": "python",
   "name": "python3"
  },
  "language_info": {
   "codemirror_mode": {
    "name": "ipython",
    "version": 3
   },
   "file_extension": ".py",
   "mimetype": "text/x-python",
   "name": "python",
   "nbconvert_exporter": "python",
   "pygments_lexer": "ipython3",
   "version": "3.9.13"
  }
 },
 "nbformat": 4,
 "nbformat_minor": 2
}
